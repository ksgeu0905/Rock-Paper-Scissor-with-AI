{
 "cells": [
  {
   "cell_type": "code",
   "execution_count": 1,
   "id": "b5bfafd3",
   "metadata": {},
   "outputs": [],
   "source": [
    "import numpy as np\n",
    "import cv2\n",
    "from collections import deque\n",
    "import mediapipe as mp"
   ]
  },
  {
   "cell_type": "code",
   "execution_count": 2,
   "id": "d4890b38",
   "metadata": {},
   "outputs": [],
   "source": [
    "# initialize mediapipe\n",
    "mpHands = mp.solutions.hands\n",
    "hands = mpHands.Hands(max_num_hands=1, min_detection_confidence=0.7)\n",
    "mpDraw = mp.solutions.drawing_utils"
   ]
  },
  {
   "cell_type": "code",
   "execution_count": 13,
   "id": "515d9f7e",
   "metadata": {},
   "outputs": [],
   "source": [
    "cap = cv2.VideoCapture(0)\n",
    "ret = True\n",
    "while ret:\n",
    "    # Read each frame from the webcam\n",
    "    ret, frame = cap.read()\n",
    "\n",
    "    x, y, c = frame.shape\n",
    "\n",
    "    # Flip the frame vertically\n",
    "    frame = cv2.flip(frame, 1)\n",
    "    #hsv = cv2.cvtColor(frame, cv2.COLOR_BGR2HSV)\n",
    "    framergb = cv2.cvtColor(frame, cv2.COLOR_BGR2RGB)\n",
    "    # Get hand landmark prediction\n",
    "    result = hands.process(framergb)\n",
    "\n",
    "    # post process the result\n",
    "    if result.multi_hand_landmarks:\n",
    "        landmarks = []\n",
    "        for handslms in result.multi_hand_landmarks:\n",
    "            for lm in handslms.landmark:\n",
    "                # # print(id, lm)\n",
    "                # print(lm.x)\n",
    "                # print(lm.y)\n",
    "                lmx = int(lm.x * 640)\n",
    "                lmy = int(lm.y * 480)\n",
    "\n",
    "                landmarks.append([lmx, lmy])\n",
    "\n",
    "\n",
    "            # Drawing landmarks on frames\n",
    "            mpDraw.draw_landmarks(frame, handslms, mpHands.HAND_CONNECTIONS)\n",
    "        \n",
    "        middle_finger = (landmarks[12][0],landmarks[12][1])\n",
    "        fore_finger = (landmarks[8][0],landmarks[8][1])\n",
    "        center = fore_finger\n",
    "        thumb = (landmarks[4][0],landmarks[4][1])\n",
    "        \n",
    "        xmin=10000\n",
    "        ymin=10000\n",
    "        xmax=0\n",
    "        ymax=0\n",
    "        for i in range(len(landmarks)):\n",
    "            xmin = min(xmin,landmarks[i][0])\n",
    "            ymin = min(ymin,landmarks[i][1])\n",
    "            xmax = max(xmax,landmarks[i][0])\n",
    "            ymax = max(ymax,landmarks[i][1])\n",
    "            \n",
    "        upperco = (xmin-25,ymin-25)\n",
    "        lowerco = (xmax+25,ymax+25)\n",
    "        \n",
    "        cv2.rectangle(frame,upperco,lowerco,(255,0,0),2)\n",
    "        cv2.circle(frame, center, 3, (0,255,0),-1)\n",
    "\n",
    "        \n",
    "        \n",
    "        \n",
    "    cv2.imshow(\"Output\", frame) \n",
    "\n",
    "    if cv2.waitKey(1) == ord('q'):\n",
    "        break\n",
    "\n",
    "        \n",
    "# release the webcam and destroy all active windows\n",
    "cap.release()\n",
    "cv2.destroyAllWindows()"
   ]
  },
  {
   "cell_type": "code",
   "execution_count": null,
   "id": "383d9603",
   "metadata": {},
   "outputs": [],
   "source": []
  }
 ],
 "metadata": {
  "kernelspec": {
   "display_name": "Python 3",
   "language": "python",
   "name": "python3"
  },
  "language_info": {
   "codemirror_mode": {
    "name": "ipython",
    "version": 3
   },
   "file_extension": ".py",
   "mimetype": "text/x-python",
   "name": "python",
   "nbconvert_exporter": "python",
   "pygments_lexer": "ipython3",
   "version": "3.8.8"
  }
 },
 "nbformat": 4,
 "nbformat_minor": 5
}
